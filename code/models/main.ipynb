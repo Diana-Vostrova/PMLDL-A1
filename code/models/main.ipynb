{
  "cells": [
    {
      "cell_type": "code",
      "execution_count": 3,
      "metadata": {
        "_cell_guid": "482946c2-72d8-4489-a094-d6cb8993a912",
        "_uuid": "ceffbb7fe5381f0d2f5f234ea37d1f834843edee",
        "collapsed": true,
        "trusted": true,
        "id": "PNRqd0n_JFP_"
      },
      "outputs": [],
      "source": [
        "import numpy as np\n",
        "import pandas as pd\n",
        "import matplotlib.pyplot as plt\n",
        "import os\n",
        "\n",
        "import torch\n",
        "import torch.nn as nn\n",
        "from torch.autograd import Variable\n",
        "from sklearn.model_selection import train_test_split\n",
        "from torch.utils.data import DataLoader, TensorDataset"
      ]
    },
    {
      "cell_type": "code",
      "execution_count": null,
      "metadata": {
        "_cell_guid": "55dd8ffd-6011-49a3-a1fe-c6933c4187b7",
        "_uuid": "840f7b1c60d1a2d5b2222a7c53b2b9d08aac9169",
        "trusted": true,
        "id": "JQ0VcctzJFQA"
      },
      "outputs": [],
      "source": [
        "train = pd.read_csv(r\"../datasets/train.csv\",dtype = np.float32)\n",
        "\n",
        "targets_numpy = train.label.values\n",
        "features_numpy = train.loc[:,train.columns != \"label\"].values/255\n",
        "\n",
        "features_train, features_test, targets_train, targets_test = train_test_split(features_numpy,\n",
        "                                                                             targets_numpy,\n",
        "                                                                             test_size = 0.2,\n",
        "                                                                             random_state = 42)\n",
        "\n",
        "featuresTrain = torch.from_numpy(features_train)\n",
        "targetsTrain = torch.from_numpy(targets_train).type(torch.LongTensor)\n",
        "\n",
        "featuresTest = torch.from_numpy(features_test)\n",
        "targetsTest = torch.from_numpy(targets_test).type(torch.LongTensor)\n",
        "\n",
        "batch_size = 100\n",
        "n_iters = 10000\n",
        "num_epochs = n_iters / (len(features_train) / batch_size)\n",
        "num_epochs = int(num_epochs)\n",
        "\n",
        "train = TensorDataset(featuresTrain,targetsTrain)\n",
        "test = TensorDataset(featuresTest,targetsTest)\n",
        "\n",
        "train_loader = DataLoader(train, batch_size = batch_size, shuffle = False)\n",
        "test_loader = DataLoader(test, batch_size = batch_size, shuffle = False)\n",
        "\n",
        "plt.imshow(features_numpy[10].reshape(28,28))\n",
        "plt.axis(\"off\")\n",
        "plt.title(str(targets_numpy[10]))\n",
        "plt.savefig('graph.png')\n",
        "plt.show()"
      ]
    },
    {
      "cell_type": "code",
      "execution_count": null,
      "metadata": {
        "_cell_guid": "7fbe419e-7ce2-4d72-bb31-8b27e8161f1b",
        "_uuid": "bb1b6d4fb5504400ed7678d8e95d0a4478b5f409",
        "collapsed": true,
        "trusted": true,
        "id": "FHG5b68kJFQA"
      },
      "outputs": [],
      "source": [
        "class RNNModel(nn.Module):\n",
        "    def __init__(self, input_dim, hidden_dim, layer_dim, output_dim):\n",
        "        super(RNNModel, self).__init__()\n",
        "\n",
        "        self.hidden_dim = hidden_dim\n",
        "        self.layer_dim = layer_dim\n",
        "        self.rnn = nn.RNN(input_dim, hidden_dim, layer_dim, batch_first=True, nonlinearity='relu')\n",
        "        self.fc = nn.Linear(hidden_dim, output_dim)\n",
        "\n",
        "    def forward(self, x):\n",
        "        h0 = Variable(torch.zeros(self.layer_dim, x.size(0), self.hidden_dim))\n",
        "        out, hn = self.rnn(x, h0)\n",
        "        out = self.fc(out[:, -1, :])\n",
        "        return out\n",
        "\n",
        "batch_size = 100\n",
        "n_iters = 8000\n",
        "num_epochs = n_iters / (len(features_train) / batch_size)\n",
        "num_epochs = int(num_epochs)\n",
        "\n",
        "train = TensorDataset(featuresTrain,targetsTrain)\n",
        "test = TensorDataset(featuresTest,targetsTest)\n",
        "\n",
        "train_loader = DataLoader(train, batch_size = batch_size, shuffle = False)\n",
        "test_loader = DataLoader(test, batch_size = batch_size, shuffle = False)\n",
        "\n",
        "input_dim = 28\n",
        "hidden_dim = 100\n",
        "layer_dim = 1\n",
        "output_dim = 10\n",
        "\n",
        "model = RNNModel(input_dim, hidden_dim, layer_dim, output_dim)\n",
        "\n",
        "error = nn.CrossEntropyLoss()\n",
        "\n",
        "learning_rate = 0.05\n",
        "optimizer = torch.optim.SGD(model.parameters(), lr=learning_rate)"
      ]
    },
    {
      "cell_type": "code",
      "execution_count": null,
      "metadata": {
        "_cell_guid": "32786a5c-0388-412d-b6da-ee5ace604eda",
        "_uuid": "9c935ac4a1d1964b85513da422ebf60085dca0e3",
        "trusted": true,
        "id": "egvQzZ6uJFQB",
        "outputId": "7a94cd62-4cfc-4aee-f249-6bd5f7efdbc8"
      },
      "outputs": [
        {
          "name": "stdout",
          "output_type": "stream",
          "text": [
            "Iteration: 500  Loss: 1.4726558923721313  Accuracy: 42.726190476190474 %\n",
            "Iteration: 1000  Loss: 0.7108388543128967  Accuracy: 71.73809523809524 %\n",
            "Iteration: 1500  Loss: 0.43755194544792175  Accuracy: 85.22619047619048 %\n",
            "Iteration: 2000  Loss: 0.271086722612381  Accuracy: 90.25 %\n",
            "Iteration: 2500  Loss: 0.2235582023859024  Accuracy: 89.5 %\n",
            "Iteration: 3000  Loss: 0.09727417677640915  Accuracy: 92.66666666666667 %\n",
            "Iteration: 3500  Loss: 0.42934906482696533  Accuracy: 92.6547619047619 %\n",
            "Iteration: 4000  Loss: 0.09869173169136047  Accuracy: 94.19047619047619 %\n",
            "Iteration: 4500  Loss: 0.2372802197933197  Accuracy: 95.20238095238095 %\n",
            "Iteration: 5000  Loss: 0.10717732459306717  Accuracy: 95.19047619047619 %\n",
            "Iteration: 5500  Loss: 0.23859672248363495  Accuracy: 94.69047619047619 %\n",
            "Iteration: 6000  Loss: 0.15453924238681793  Accuracy: 96.05952380952381 %\n",
            "Iteration: 6500  Loss: 0.07914035022258759  Accuracy: 95.97619047619048 %\n",
            "Iteration: 7000  Loss: 0.12296199798583984  Accuracy: 96.27380952380952 %\n",
            "Iteration: 7500  Loss: 0.10664860904216766  Accuracy: 96.11904761904762 %\n"
          ]
        }
      ],
      "source": [
        "seq_dim = 28\n",
        "loss_list = []\n",
        "iteration_list = []\n",
        "accuracy_list = []\n",
        "count = 0\n",
        "for epoch in range(num_epochs):\n",
        "    for i, (images, labels) in enumerate(train_loader):\n",
        "\n",
        "        train  = Variable(images.view(-1, seq_dim, input_dim))\n",
        "        labels = Variable(labels )\n",
        "\n",
        "        optimizer.zero_grad()\n",
        "        outputs = model(train)\n",
        "        loss = error(outputs, labels)\n",
        "        loss.backward()\n",
        "        optimizer.step()\n",
        "\n",
        "        count += 1\n",
        "\n",
        "        if count % 250 == 0:\n",
        "            correct = 0\n",
        "            total = 0\n",
        "            for images, labels in test_loader:\n",
        "                images = Variable(images.view(-1, seq_dim, input_dim))\n",
        "                outputs = model(images)\n",
        "                predicted = torch.max(outputs.data, 1)[1]\n",
        "                total += labels.size(0)\n",
        "\n",
        "                correct += (predicted == labels).sum()\n",
        "\n",
        "            accuracy = 100 * correct / float(total)\n",
        "\n",
        "            loss_list.append(loss.data)\n",
        "            iteration_list.append(count)\n",
        "            accuracy_list.append(accuracy)\n",
        "            if count % 500 == 0:\n",
        "                print('Iteration: {}  Loss: {}  Accuracy: {} %'.format(count, loss.data[0], accuracy))"
      ]
    }
  ],
  "metadata": {
    "kernelspec": {
      "display_name": "Python 3",
      "language": "python",
      "name": "python3"
    },
    "language_info": {
      "codemirror_mode": {
        "name": "ipython",
        "version": 3
      },
      "file_extension": ".py",
      "mimetype": "text/x-python",
      "name": "python",
      "nbconvert_exporter": "python",
      "pygments_lexer": "ipython3",
      "version": "3.6.4"
    },
    "colab": {
      "provenance": []
    }
  },
  "nbformat": 4,
  "nbformat_minor": 0
}